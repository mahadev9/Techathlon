{
  "cells": [
    {
      "metadata": {
        "_uuid": "8f2839f25d086af736a60e9eeb907d3b93b6e0e5",
        "_cell_guid": "b1076dfc-b9ad-4769-8c92-a6c4dae69d19",
        "trusted": true
      },
      "cell_type": "code",
      "source": "# This Python 3 environment comes with many helpful analytics libraries installed\n# It is defined by the kaggle/python docker image: https://github.com/kaggle/docker-python\n# For example, here's several helpful packages to load in \n\nimport numpy as np # linear algebra\nimport pandas as pd # data processing, CSV file I/O (e.g. pd.read_csv)\n\n# Input data files are available in the \"../input/\" directory.\n# For example, running this (by clicking run or pressing Shift+Enter) will list the files in the input directory\n\nimport os\nprint(os.listdir(\"../input\"))\n\n# Any results you write to the current directory are saved as output.",
      "execution_count": null,
      "outputs": []
    },
    {
      "metadata": {
        "_cell_guid": "79c7e3d0-c299-4dcb-8224-4455121ee9b0",
        "_uuid": "d629ff2d2480ee46fbb7e2d37f6b5fab8052498a",
        "trusted": true
      },
      "cell_type": "code",
      "source": "import time \nimport pandas as pd\nimport matplotlib.pyplot as plt\nfrom mpl_toolkits.mplot3d import Axes3D\nimport numpy as np\nimport math",
      "execution_count": null,
      "outputs": []
    },
    {
      "metadata": {
        "trusted": true,
        "_uuid": "580be5d15ca9ca7d72e1125622a9bf2b2dd76666"
      },
      "cell_type": "code",
      "source": "\n#loading the csv files\n\nlidar=pd.read_csv(\"Flight02_pointcloud.csv\")\n\ngps=pd.read_csv(\"Flight02_gps.csv\")\n\n#converting the data of required rows to list item\nm = lidar[\"x\"]\nm= list(m)\n\nc=gps[\"timestamp\"]\nc=list(c)\n\nt = lidar['timestamp']\nt=list(t)\n\nt1=list(set(t))\n#print(t)",
      "execution_count": null,
      "outputs": []
    },
    {
      "metadata": {
        "trusted": true,
        "_uuid": "588019516f6b5fbd576fc73af6e07ff9cd263f22",
        "scrolled": true
      },
      "cell_type": "code",
      "source": "\nangle=list(lidar[\"theta\"])\nutc=list(gps[\"time_utc_usec\"])\n\n\n#loading the intensity coloumn and using it as one of the thresholds\n#finding mean of the intensity to find the middle value. Greater than mean value is approximated as muddy road,\n#less than mean value is approximated as grey flat road\nintensity=list(lidar[\"intensity\"])\nmean_i=np.mean(np.array(intensity))\n\n#print(mean_i)\n\n\n\nv=[]\na=[]\n\ncount=0\ni=0\n\n#if the difference between consecutive x axis lidar values is very high , then we predict that a pothole exists\n\nwhile(i<len(m)-1):\n    #if ((( m[i]*(abs(180-angle[i]))-(m[i+1]*(abs(180-angle[i+1]))) ))>0.5):\n    if (((m[i+1]-(m[i])))>2.7 and intensity[i]>mean_i):\n        count=count+1\n        \n        #calculate the volume of the pothole approximately in m3\n        radius = abs(m[i+3]-m[i+1])\n        volume=2*radius*3.14/3\n        \n        v.append(volume)\n        \n        a.append(t[i])\n        i=i+77\n        \"\"\"\n        if i+90000 < len(m)-1:\n            i=i+90000\n        else:\n            i=i+10000\n        #print(t[i],m[i],m[i+1])\n        \"\"\"\n        \n    else:\n        i=i+1\n        \n        \nprint(count,\"places to fix road\")\n\n\n\n#Here we take the timestamp values only when the pothole is predicted and compare these timetsamp values \n#with the values in gps csv file. The corresponding longitude and lattitude value for the particular\n#timestamp is found and plotted to the map\n\nlat=[]\nlong=[]\ntm=[]\n\nlt=list(gps[\"lat\"])\nlo=list(gps[\"lon\"])\ntm1=list(gps[\"time_utc_usec\"])\n\nfor i in range(0,len(a)):\n    for j in range(0,len(c)):\n        #print((a[i]/1000000000-c[j]/1000000) , a[i]/1000000000,c[j]/1000000)\n        if (math.floor(a[i]/1000000000-c[j]/1000000)==0):\n            lat.append(lt[j]/10000000)\n            long.append(lo[j]/10000000)\n            tm.append(tm1[j])\n#            print(lt[j]/10000000,lo[j]/10000000)\n\n\nprint(lat,long,v)\n\n\n\n\n",
      "execution_count": null,
      "outputs": []
    },
    {
      "metadata": {
        "trusted": true,
        "_uuid": "b8e186d12595fc9ab6976af5b1d2212dff45489b"
      },
      "cell_type": "code",
      "source": "import gmplot\nimport csv\nwith open('lat.csv', \"w\") as output:\n    writer = csv.writer(output, lineterminator='\\n')\n    writer.writerow(\"lat\")\n    for val in lat:\n        writer.writerow([val])\n        \nwith open('long.csv', \"w\") as output:\n    writer = csv.writer(output, lineterminator='\\n')\n    writer.writerow(\"long\")\n    for val in long:\n        writer.writerow([val])\n        \nwith open('volume.csv', \"w\") as output:\n    writer = csv.writer(output, lineterminator='\\n')\n    writer.writerow(\"vol\")\n    for val in v:\n        writer.writerow([val])\n        \nwith open('tm.csv', \"w\") as output:\n    writer = csv.writer(output, lineterminator='\\n')\n    writer.writerow(\"timestamp(utc)\")\n    for val in tm1:\n        writer.writerow([val])\n\n",
      "execution_count": null,
      "outputs": []
    },
    {
      "metadata": {
        "trusted": true,
        "_uuid": "09c694db9adb40ebf777e405e9d778b3ccb11479"
      },
      "cell_type": "code",
      "source": "gmap = gmplot.GoogleMapPlotter(lat[0], long[0],16)\n\ngmap.plot(lat, long,'cornflowerblue', edge_width=10)\ngmap.scatter(lat, long, '#ff0000', size=1, marker=False)\n\n#gmap.plot(list(np.array(lt)/10000000), list(np.array(lo)/10000000),'cornflowerblue', edge_width=10)\n#gmap.scatter(list(np.array(lt)/10000000), list(np.array(lo)/10000000), '#3B0B39', size=1, marker=False)\n#gmap.scatter(marker_lats, marker_lngs, 'k', marker=True)\n#gmap.heatmap(heat_lats, heat_lngs)\n\ngmap.draw(\"mymap.html\")",
      "execution_count": null,
      "outputs": []
    },
    {
      "metadata": {
        "trusted": true,
        "_uuid": "1533fde6900bb11ed8e03fd9468313e4198bc663"
      },
      "cell_type": "code",
      "source": "",
      "execution_count": null,
      "outputs": []
    }
  ],
  "metadata": {
    "kernelspec": {
      "display_name": "Python 3",
      "language": "python",
      "name": "python3"
    },
    "language_info": {
      "name": "python",
      "version": "3.6.6",
      "mimetype": "text/x-python",
      "codemirror_mode": {
        "name": "ipython",
        "version": 3
      },
      "pygments_lexer": "ipython3",
      "nbconvert_exporter": "python",
      "file_extension": ".py"
    }
  },
  "nbformat": 4,
  "nbformat_minor": 1
}